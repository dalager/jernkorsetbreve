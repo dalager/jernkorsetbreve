{
 "cells": [
  {
   "cell_type": "markdown",
   "metadata": {},
   "source": [
    "# Cleanup\n",
    "Konvertering af brevene i json-format til en enkelt csv-fil.\n",
    "\n",
    "Vi renser ud i de mest basale tekstformateringer, såsom linjeskift, tabuleringer og dobbelt mellemrum.\n",
    "\n",
    "Omdøber kolonnerne og konverterer datoerne til datetime-format og introducerer et id.\n"
   ]
  },
  {
   "cell_type": "code",
   "execution_count": 6,
   "metadata": {},
   "outputs": [],
   "source": [
    "# load jsonfile from disk\n",
    "import json\n",
    "import pandas as pd\n"
   ]
  },
  {
   "cell_type": "code",
   "execution_count": 7,
   "metadata": {},
   "outputs": [],
   "source": [
    "\n",
    "with open('data/letters.json', 'r') as f:\n",
    "    letters = json.load(f)\n",
    "\n",
    "from MLStripper import strip_tags\n",
    "\n",
    "# strip html tags from text\n",
    "for letter in letters:\n",
    "    letter['Text'] = strip_tags(letter['Text'])\n",
    "\n",
    "df = pd.DataFrame(letters)\n",
    "\n",
    "# lowercase all column names\n",
    "df.columns = map(str.lower, df.columns)\n"
   ]
  },
  {
   "cell_type": "code",
   "execution_count": 8,
   "metadata": {},
   "outputs": [],
   "source": [
    "# Text cleanup\n",
    "\n",
    "# replace crlf with lf\n",
    "df['text'] = df['text'].str.replace('\\r\\n', '\\n')\n",
    "# replace leading and trailing whitespace\n",
    "df['text'] = df['text'].str.strip()\n",
    "\n",
    "# replace single newlines with space\n",
    "df['text'] = df['text'].str.replace('\\n', ' ')\n",
    "\n",
    "# replace multiple newlines with single newline\n",
    "df['text'] = df['text'].str.replace('\\n+', '\\n')\n",
    "\n",
    "# replace \\xa0 with space\n",
    "df['text'] = df['text'].str.replace('\\xa0', ' ')\n",
    "\n",
    "# replace \\xa with ''\n",
    "df['text'] = df['text'].str.replace('\\xad', '')\n",
    "df['text'] = df['text'].str.replace('\\x95', '')\n",
    "\n",
    "# replace multiple spaces with single space\n",
    "df['text'] = df['text'].str.replace('\\s+', ' ')\n"
   ]
  },
  {
   "cell_type": "code",
   "execution_count": 9,
   "metadata": {},
   "outputs": [],
   "source": [
    "# Dates\n",
    "df['date'] = pd.to_datetime(df['letterdate'])\n",
    "df['date'] = df['date'].dt.date\n",
    "df.drop(['letterdate'], axis=1, inplace=True)\n",
    "\n",
    "# for each letter we calculate the time between the letters\n",
    "from datetime import datetime\n",
    "dates = df['date'].tolist()\n",
    "#dates = [datetime.strptime(date, '%Y-%m-%d') for date in dates]\n",
    "\n",
    "# calculate the time between the letters\n",
    "from datetime import timedelta\n",
    "time_between = [0.0]\n",
    "for i in range(len(dates) - 1):\n",
    "    time_between.append((dates[i + 1] - dates[i]).days)\n",
    "\n",
    "df[\"days_from_last\"] = time_between\n",
    "\n"
   ]
  },
  {
   "cell_type": "code",
   "execution_count": 10,
   "metadata": {},
   "outputs": [],
   "source": [
    "# order letters by date\n",
    "df.sort_values(by=['date'], inplace=True)\n",
    "\n",
    "# Add an id column as the first column\n",
    "df.insert(0, 'id', range(1, 1 + len(df)))\n",
    "\n",
    "#\n",
    "df.to_csv('data/letters.csv', index=False)"
   ]
  }
 ],
 "metadata": {
  "kernelspec": {
   "display_name": "Python 3",
   "language": "python",
   "name": "python3"
  },
  "language_info": {
   "codemirror_mode": {
    "name": "ipython",
    "version": 3
   },
   "file_extension": ".py",
   "mimetype": "text/x-python",
   "name": "python",
   "nbconvert_exporter": "python",
   "pygments_lexer": "ipython3",
   "version": "3.9.18"
  }
 },
 "nbformat": 4,
 "nbformat_minor": 2
}
