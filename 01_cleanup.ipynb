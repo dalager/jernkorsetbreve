{
 "cells": [
  {
   "cell_type": "markdown",
   "metadata": {},
   "source": [
    "# Cleanup\n",
    "Konvertering af brevene i json-format til en enkelt csv-fil.\n",
    "\n",
    "Vi renser ud i de mest basale tekstformateringer, såsom linjeskift, tabuleringer og dobbelt mellemrum.\n",
    "\n",
    "Omdøber kolonnerne og konverterer datoerne til datetime-format og introducerer et id.\n"
   ]
  },
  {
   "cell_type": "code",
   "execution_count": null,
   "metadata": {},
   "outputs": [],
   "source": [
    "# load jsonfile from disk\n",
    "import json\n",
    "import pandas as pd\n"
   ]
  },
  {
   "cell_type": "code",
   "execution_count": null,
   "metadata": {},
   "outputs": [],
   "source": [
    "\n",
    "with open('data/letters.json', 'r') as f:\n",
    "    letters = json.load(f)\n",
    "\n",
    "from MLStripper import strip_tags\n",
    "\n",
    "# strip html tags from text\n",
    "for letter in letters:\n",
    "    letter['Text'] = strip_tags(letter['Text'])\n",
    "\n",
    "df = pd.DataFrame(letters)\n",
    "\n",
    "# lowercase all column names\n",
    "df.columns = map(str.lower, df.columns)\n"
   ]
  },
  {
   "cell_type": "code",
   "execution_count": null,
   "metadata": {},
   "outputs": [],
   "source": [
    "# Text cleanup\n",
    "\n",
    "# replace crlf with lf\n",
    "df['text'] = df['text'].str.replace('\\r\\n', '\\n')\n",
    "# replace leading and trailing whitespace\n",
    "df['text'] = df['text'].str.strip()\n",
    "\n",
    "# replace single newlines with space\n",
    "df['text'] = df['text'].str.replace('\\n', ' ')\n",
    "\n",
    "# replace multiple newlines with single newline\n",
    "df['text'] = df['text'].str.replace('\\n+', '\\n')\n",
    "\n",
    "# replace \\xa0 with space\n",
    "df['text'] = df['text'].str.replace('\\xa0', ' ')\n",
    "\n",
    "# replace \\xa with ''\n",
    "df['text'] = df['text'].str.replace('\\xad', '')\n",
    "df['text'] = df['text'].str.replace('\\x95', '')\n",
    "\n",
    "# replace multiple spaces with single space\n",
    "df['text'] = df['text'].str.replace('\\s+', ' ')\n"
   ]
  },
  {
   "cell_type": "code",
   "execution_count": null,
   "metadata": {},
   "outputs": [],
   "source": [
    "# Dates\n",
    "df['date'] = pd.to_datetime(df['letterdate'])\n",
    "df['date'] = df['date'].dt.date\n",
    "df.drop(['letterdate'], axis=1, inplace=True)\n",
    "df.sort_values(by=['date'], inplace=True)\n"
   ]
  },
  {
   "cell_type": "code",
   "execution_count": null,
   "metadata": {},
   "outputs": [],
   "source": [
    "# Add an id column as the first column\n",
    "df.insert(0, 'id', range(1, 1 + len(df)))\n",
    "\n",
    "# reorder columns\n",
    "df = df[['id', 'date', 'sender', 'recipient','place','location', 'text']]\n",
    "\n",
    "df.to_csv('data/letters.csv', index=False)\n"
   ]
  },
  {
   "cell_type": "code",
   "execution_count": null,
   "metadata": {},
   "outputs": [],
   "source": [
    "# ten random letters from the dataset, sender \"Peter Mærsk\"\n",
    "randomletters = df[df['sender'] == 'Peter Mærsk'].sample(10, random_state=1).copy()\n",
    "# order by id asc\n",
    "randomletters.sort_values(by=['id'], inplace=True)\n",
    "randomletters['text'] =randomletters['text'].str.slice(0, 500)+' [...]'\n",
    "randomletters.to_markdown('data/ten_random_letters.md', index=False)\n",
    "\n"
   ]
  }
 ],
 "metadata": {
  "kernelspec": {
   "display_name": "Python 3",
   "language": "python",
   "name": "python3"
  },
  "language_info": {
   "codemirror_mode": {
    "name": "ipython",
    "version": 3
   },
   "file_extension": ".py",
   "mimetype": "text/x-python",
   "name": "python",
   "nbconvert_exporter": "python",
   "pygments_lexer": "ipython3",
   "version": "3.9.18"
  }
 },
 "nbformat": 4,
 "nbformat_minor": 2
}
