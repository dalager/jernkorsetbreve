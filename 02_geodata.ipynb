{
 "cells": [
  {
   "cell_type": "markdown",
   "metadata": {},
   "source": [
    "# 2 Geodata\n",
    "\n",
    "`location` kolonnen kommer fra google maps og indeholder koordinat og zoom level.\n",
    "\n",
    "Vi skal have oversat til noget vi kan bruge i vores kort.\n",
    "\n",
    "Det bliver til `geometry` kolonnen i WKT format.\n",
    "\n",
    "Vi bruger `geopandas` til at gøre datasættet geografisk.\n",
    "\n",
    "Der er 2 plot i denne notebook:\n",
    "1. `plot` er et plot af alle punkterne i datasættet, med Peter Mærsk.\n",
    "2. `plot2` er et plot af alle breve, hvor vi har tegnet linjer mellem punkter. Her er det kun breve fra Peter Mærsk, da det er ham, vi gerne vil følge"
   ]
  },
  {
   "cell_type": "code",
   "execution_count": null,
   "metadata": {},
   "outputs": [],
   "source": [
    "# load jsonfile from disk\n",
    "import json\n",
    "import pandas as pd\n",
    "import geopandas as gpd\n",
    "import contextily as cx\n",
    "from matplotlib import pyplot as plt\n",
    "from shapely import wkt\n",
    "from shapely.geometry import Point, Polygon\n",
    "\n"
   ]
  },
  {
   "cell_type": "code",
   "execution_count": null,
   "metadata": {},
   "outputs": [],
   "source": [
    "\n",
    "df = pd.read_csv('data/letters.csv')\t\n"
   ]
  },
  {
   "cell_type": "code",
   "execution_count": null,
   "metadata": {},
   "outputs": [],
   "source": [
    "# print number of letters without location\n",
    "print(\"Number of letters without location: \", df[\"location\"].isnull().sum())\n",
    "#df[\"location\"] = df[\"location\"].fillna(\"55.55,5.55,5\")\n",
    "\n",
    "\n",
    "df.dropna(subset=['location'], inplace=True)\n",
    "\n",
    "# parse into geopandas\n",
    "df[\"geometry\"] = df[\"location\"].str.split(\",\")\n",
    "\n",
    "df['geometry'] = df['geometry'].apply(lambda x: x[:-1])\n",
    "\n",
    "# convert geometry to wkt from [lat,lon] to POINT(lon lat)\n",
    "df['geometry'] = df['geometry'].apply(lambda x: 'POINT (' + x[1] + ' ' + x[0] + ')')\n",
    "# geometry to geometry object\n",
    "\n",
    "df['geometry'] = df['geometry'].apply(wkt.loads)\n",
    "\n",
    "# convert to geodataframe\n",
    "gdf = gpd.GeoDataFrame(df, geometry='geometry')\n"
   ]
  },
  {
   "cell_type": "code",
   "execution_count": null,
   "metadata": {},
   "outputs": [],
   "source": [
    "fig, ax = plt.subplots(figsize=(15, 15))\n",
    "\n",
    "gdf.plot(ax=ax, edgecolor='red',markersize=15,  alpha=0.5, color='red')\n",
    "ax.set_ylim(43,60)\n",
    "ax.set_xlim(-3,40)\n",
    "cx.add_basemap(ax, crs='epsg:4326')\n",
    "plt.savefig('images/letters.png', dpi=300, bbox_inches='tight')\n"
   ]
  },
  {
   "cell_type": "code",
   "execution_count": null,
   "metadata": {},
   "outputs": [],
   "source": []
  },
  {
   "cell_type": "code",
   "execution_count": null,
   "metadata": {},
   "outputs": [],
   "source": [
    "# create a line between the points of the letters\n",
    "# sender must be \"Peter Mærsk\"\n",
    "gdf = gpd.GeoDataFrame(df, geometry='geometry')\n",
    "print(len(gdf))\n",
    "gdf = gdf[gdf['sender'] == 'Peter Mærsk']\n",
    "gdf = gdf.sort_values(by='id')\n",
    "\n",
    "# only the first 100 letters\n",
    "# gdf = gdf[500:]\n",
    "\n",
    "points = gdf.geometry.tolist()\n",
    "from shapely.geometry import LineString\n",
    "# Create line strings between each point\n",
    "lines = [LineString([points[i], points[i + 1]]) for i in range(len(points) - 1)]\n",
    "\n",
    "# Create a new GeoDataFrame for lines\n",
    "line_gdf = gpd.GeoDataFrame(geometry=lines)\n",
    "\n",
    "# Plotting (optional)\n",
    "fig, ax = plt.subplots(figsize=(15, 15))\n",
    "ax.set_ylim(45,58)\n",
    "ax.set_xlim(0,34)\n",
    "gdf.plot(ax=ax,marker='o', color='green', markersize=25, alpha=1)  # Plot points\n",
    "line_gdf.plot(ax=ax, linewidth=1, color='#443234')  # Plot lines\n",
    "cx.add_basemap(ax, crs='epsg:4326')\n",
    "plt.savefig('images/letters_connected.png', dpi=300, bbox_inches='tight')\n",
    "\n",
    "\n",
    "# create a line between the points of the letters\n"
   ]
  },
  {
   "cell_type": "code",
   "execution_count": null,
   "metadata": {},
   "outputs": [],
   "source": [
    "## THIS DOES NOT BELONG HER\n",
    "# for each letter we calculate the time between the letters\n",
    "from datetime import datetime\n",
    "dates = gdf['date'].tolist()\n",
    "dates = [datetime.strptime(date, '%Y-%m-%d') for date in dates]\n",
    "\n",
    "# calculate the time between the letters\n",
    "from datetime import timedelta\n",
    "time_between = [0.0]\n",
    "for i in range(len(dates) - 1):\n",
    "    time_between.append((dates[i + 1] - dates[i]).days)\n",
    "\n",
    "gdf[\"days_from_last\"] = time_between"
   ]
  },
  {
   "cell_type": "code",
   "execution_count": null,
   "metadata": {},
   "outputs": [],
   "source": [
    "points = gdf.geometry.tolist()\n",
    "points\n",
    "\n",
    "# for each point in the list we calculate the distance to the previous point in kms\n",
    "from geopy.distance import geodesic\n",
    "distances = [0.0]\n",
    "for i in range(len(points) - 1):\n",
    "    distances.append(geodesic(points[i].coords[0], points[i + 1].coords[0]).km)\n",
    "distances\n",
    "print(len(distances))\n",
    "print(len(gdf))\n",
    "\n",
    "# add the distances to the dataframe\n",
    "gdf['km_from_last'] = distances\n",
    "\n",
    "\n",
    "# calculate the total distance from the first letter\n",
    "gdf['km_from_start'] = gdf['km_from_last'].cumsum()\n",
    "\n",
    "\n",
    "# calculate the km/hour between the letters and use 0 if the time is 0\n",
    "gdf['km_per_hour'] = gdf['km_from_last'] / gdf['days_from_last'].replace(0, 1)\n",
    "\n",
    "# the 10 fastest letters\n",
    "#gdf = gdf.sort_values(by='km_per_hour', ascending=False)\n",
    "\n",
    "# sort by date asc\n",
    "gdf = gdf.sort_values(by='date')\n",
    "\n",
    "#gdf.km_from_last.plot(kind='bar', figsize=(15, 5), title='Distance from last letter (km)')\n",
    "\n",
    "# plot time between letters\n",
    "gdf.days_from_last.plot(kind='bar', figsize=(15, 5), title='Days between letters')\n",
    "\n",
    "\n",
    "#gdf\n",
    "\n",
    "\n",
    "\n",
    "\n",
    "\n",
    "\n",
    "\n"
   ]
  }
 ],
 "metadata": {
  "kernelspec": {
   "display_name": "Python 3",
   "language": "python",
   "name": "python3"
  },
  "language_info": {
   "codemirror_mode": {
    "name": "ipython",
    "version": 3
   },
   "file_extension": ".py",
   "mimetype": "text/x-python",
   "name": "python",
   "nbconvert_exporter": "python",
   "pygments_lexer": "ipython3",
   "version": "3.9.18"
  }
 },
 "nbformat": 4,
 "nbformat_minor": 2
}
