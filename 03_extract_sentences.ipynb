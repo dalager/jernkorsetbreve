{
 "cells": [
  {
   "cell_type": "code",
   "execution_count": 79,
   "metadata": {},
   "outputs": [],
   "source": [
    "import sentence_extractor\n",
    "\n",
    "import importlib \n",
    "importlib.reload(sentence_extractor)\n",
    "\n",
    "nlp = sentence_extractor.initialize_dacy()\n",
    "sentence_extractor.extract_from_letters(nlp, \"data/letters.csv\", \"data/letters_sentences5.csv\",limit=5)\n"
   ]
  }
 ],
 "metadata": {
  "kernelspec": {
   "display_name": "jernkors",
   "language": "python",
   "name": "python3"
  },
  "language_info": {
   "codemirror_mode": {
    "name": "ipython",
    "version": 3
   },
   "file_extension": ".py",
   "mimetype": "text/x-python",
   "name": "python",
   "nbconvert_exporter": "python",
   "pygments_lexer": "ipython3",
   "version": "3.9.18"
  }
 },
 "nbformat": 4,
 "nbformat_minor": 2
}
