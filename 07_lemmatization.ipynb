{
 "cells": [
  {
   "cell_type": "markdown",
   "metadata": {},
   "source": [
    "# Lemmatization\n",
    "For at finde rodformerne, lemmas, af verber bruger vi Lemmy. \n",
    "\n",
    "https://github.com/sorenlind/lemmy \n"
   ]
  },
  {
   "cell_type": "code",
   "execution_count": null,
   "metadata": {},
   "outputs": [],
   "source": [
    "import pandas as pd\n",
    "import lemmy\n",
    "vfreq = pd.read_csv('data/verbfreq.csv')\n",
    "\n",
    "lemmatizer = lemmy.load(\"da\")"
   ]
  },
  {
   "cell_type": "code",
   "execution_count": null,
   "metadata": {},
   "outputs": [],
   "source": [
    "# simple function to lemmatize verbs\n",
    "def lemmatize_verbs(verb):\n",
    "    return lemmatizer.lemmatize(\"VERB\", verb)[0]\n"
   ]
  },
  {
   "cell_type": "code",
   "execution_count": null,
   "metadata": {},
   "outputs": [],
   "source": [
    "# create lemma column\n",
    "vfreq['lemma'] = vfreq['verb'].apply(lemmatize_verbs)\n"
   ]
  },
  {
   "cell_type": "code",
   "execution_count": null,
   "metadata": {},
   "outputs": [],
   "source": [
    "# group by lemma and sum freq\n",
    "vfreq_lemma = vfreq.groupby('lemma').sum().reset_index()\n",
    "vfreq_lemma = vfreq_lemma.sort_values(by='freq', ascending=False)\n",
    "vfreq_lemma = vfreq_lemma.reset_index(drop=True)\n",
    "vfreq_lemma = vfreq_lemma[['lemma', 'freq']]\n",
    "vfreq_lemma.to_csv('data/verbfreq_lemma.csv', index=False)"
   ]
  }
 ],
 "metadata": {
  "kernelspec": {
   "display_name": "jernkors",
   "language": "python",
   "name": "python3"
  },
  "language_info": {
   "codemirror_mode": {
    "name": "ipython",
    "version": 3
   },
   "file_extension": ".py",
   "mimetype": "text/x-python",
   "name": "python",
   "nbconvert_exporter": "python",
   "pygments_lexer": "ipython3",
   "version": "3.9.18"
  }
 },
 "nbformat": 4,
 "nbformat_minor": 2
}
