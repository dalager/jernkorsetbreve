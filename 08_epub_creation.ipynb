{
 "cells": [
  {
   "cell_type": "code",
   "execution_count": 1,
   "metadata": {},
   "outputs": [],
   "source": [
    "import json\n",
    "import importlib\n",
    "from MLStripper import strip_tags\n",
    "from datetime import datetime\n",
    "import create_epub\n",
    "\n",
    "\n",
    "    \n"
   ]
  },
  {
   "cell_type": "code",
   "execution_count": 19,
   "metadata": {},
   "outputs": [],
   "source": [
    "importlib.reload(create_epub)\n",
    "letters = create_epub.load_csv()\n",
    "create_epub.create_epub(letters,'jernkors9.epub')"
   ]
  },
  {
   "cell_type": "code",
   "execution_count": 17,
   "metadata": {},
   "outputs": [
    {
     "data": {
      "text/plain": [
       "'Min egen kære Trine.<BREAK>Tak for sidst. Jeg er saa forkølet at jeg snart ikke kan snakke. Det er jo kedelig nu til Søndag for Kommandoen. Og Mor kan slet ikke forstaa, hvorledes jeg kan være bleven det. Jeg kan naturligvis heller ikke. Hvorledes har du det. I Gaar var det egentlig Meningen, at jeg skulde have rejst. Jeg vilde have fortalt dig det sidst vi taltes; men saa forglemte jeg det. Far er nemlig bleven udklar med Jørgen Jensen angaaende Mejeriet. Og saa skulde J. Jensen have rejst 1. April. Og saa skulde jeg have været derover med et par Heste nu i Foraaret. Men saa syntes vi at det var en Skam saadan at sætte dem paa Døren. Det er nemlig ham, der har sat Rygtet ud om Mejeriet, og nu er det ham, der siger, at Far har sagt det. Du har vel hørt det. Men det er jo ellers en kedelig Rygte at have paa sig. Jeg ved ikke; men jeg synes alle Folk ser saa skævt til mig siden det er kommen ud, og mig angaar det jo endda slet ikke. Du gør da ikke, kære Trine ?<BREAK>Vi havde det ellers helt morsomt til Ballet. Jeg kom til at følges med hende derhenne fra Fårup, jeg ved ikke, hvad hun hed, fra Andres Andersen. Og nu gaar Snakket, at jeg har fulgt hende hjem. Anders Thøjsen kom rigtignok til os ved Stien fra Kirkeby; men det er der ingen der ved. Lad dem kun gaa i den Mening. Men jeg tænkte rigtignok, blot det havde været dig, kære Trine. I Gaar var vi jo i Gaansager. Jeg syntes ikke, jeg kunde være bekendt at blive hjemme. Men jeg synes altid, jeg mangler nogen, naar du ikke er der. Blot vi ikke havde haft Opvisningen overstaaet. Den er altid i mine Tanker. Uffe og Bodil har ikke meget at lade os høre. De var dog ude til Chr. Bejers Bryllup i Vesterbek og til Dyrskuet tror jeg nok, saa de kan ikke lade os saa grulig meget høre. Det er jo nu ogsaa det samme, vi gør som vi vil, om saa vi kunde komme sammen hver Aften.<BREAK>Nu ikke mere, jeg maa skrive med Blyant. Pennen faldt ud af Vinduet, og jeg har ikke Tid til at hente. Ventede du efter Brev sidste Tirsdag ? Jeg syntes det var for tidlig. I Morgen skriver du vel, kære Trine. din egen Peter. Jeg ved ikke om du kan læse det, jeg kan næsten ikke/Hvad mit Fotografi'"
      ]
     },
     "execution_count": 17,
     "metadata": {},
     "output_type": "execute_result"
    }
   ],
   "source": [
    "importlib.reload(create_epub)\n",
    "letters = create_epub.load_csv()\n",
    "# for i, letter in letters.iterrows():\n",
    "#     print(letter['date'])\n",
    "#create_epub.create_epub(letters,'jernkors3.epub')\n",
    "#letters['heading'] = letters['date_str'] + ' ' + letters['place']\n",
    "\n",
    "# get the types of columns\n",
    "#letters\n",
    "letters.iloc[0]['text']\n",
    "\n",
    "\n"
   ]
  }
 ],
 "metadata": {
  "kernelspec": {
   "display_name": "jernkors",
   "language": "python",
   "name": "python3"
  },
  "language_info": {
   "codemirror_mode": {
    "name": "ipython",
    "version": 3
   },
   "file_extension": ".py",
   "mimetype": "text/x-python",
   "name": "python",
   "nbconvert_exporter": "python",
   "pygments_lexer": "ipython3",
   "version": "3.9.18"
  }
 },
 "nbformat": 4,
 "nbformat_minor": 2
}
