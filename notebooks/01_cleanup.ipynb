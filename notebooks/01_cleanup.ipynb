{
 "cells": [
  {
   "cell_type": "markdown",
   "metadata": {},
   "source": [
    "# Cleanup\n",
    "Konvertering af brevene i json-format til en enkelt csv-fil.\n",
    "\n",
    "Vi renser ud i de mest basale tekstformateringer, såsom linjeskift, tabuleringer og dobbelt mellemrum.\n",
    "\n",
    "Omdøber kolonnerne og konverterer datoerne til datetime-format og introducerer et id.\n"
   ]
  },
  {
   "cell_type": "code",
   "execution_count": 1,
   "metadata": {},
   "outputs": [
    {
     "name": "stderr",
     "output_type": "stream",
     "text": [
      "C:\\Users\\christian.dalager\\AppData\\Local\\Temp\\ipykernel_27780\\1269626062.py:3: DeprecationWarning: \n",
      "Pyarrow will become a required dependency of pandas in the next major release of pandas (pandas 3.0),\n",
      "(to allow more performant data types, such as the Arrow string type, and better interoperability with other libraries)\n",
      "but was not found to be installed on your system.\n",
      "If this would cause problems for you,\n",
      "please provide us feedback at https://github.com/pandas-dev/pandas/issues/54466\n",
      "        \n",
      "  import pandas as pd\n"
     ]
    }
   ],
   "source": [
    "# load jsonfile from disk\n",
    "import json\n",
    "import pandas as pd\n",
    "import sys\n",
    "sys.path.insert(0, '../scripts')\n"
   ]
  },
  {
   "cell_type": "code",
   "execution_count": 2,
   "metadata": {},
   "outputs": [],
   "source": [
    "with open('../data/letters.json', 'r') as f:\n",
    "    letters = json.load(f)\n",
    "\n",
    "from MLStripper import strip_tags\n",
    "# strip html tags from text\n",
    "\n",
    "for letter in letters:\n",
    "    letter['Text'] = strip_tags(letter['Text'])\n",
    "\n",
    "df = pd.DataFrame(letters)\n",
    "\n",
    "# lowercase all column names\n",
    "df.columns = map(str.lower, df.columns)\n"
   ]
  },
  {
   "cell_type": "code",
   "execution_count": 3,
   "metadata": {},
   "outputs": [],
   "source": [
    "# Text cleanup\n",
    "df['text'] = df['text'].str.strip()\n",
    "\n",
    "# replace crlf with lf\n",
    "df['text'] = df['text'].str.replace('\\r\\n', '\\n')\n",
    "# replace leading and trailing whitespace\n",
    "df['text'] = df['text'].str.replace('\\n( )*\\n', '\\n\\n', regex=True)\n",
    "\n",
    "# replace multiple newlines with single newline\n",
    "df['text'] = df['text'].str.replace('\\n{3,}', '\\n\\n', regex=True)\n",
    "\n",
    "# replace all occurrences double newlines with break markerr\n",
    "df['text'] = df['text'].str.replace('\\n\\n', '<PARA>')\n",
    "\n",
    "df['text'] = df['text'].str.replace('- - - -', '[ulæseligt]')\n",
    "df['text'] = df['text'].str.replace('----', '[ulæseligt]')\n",
    "df['text'] = df['text'].str.replace('- - -', '[ulæseligt]')\n",
    "df['text'] = df['text'].str.replace('- -', '-')\n",
    "df['text'] = df['text'].str.replace('--', '-')\n",
    "\n",
    "# replace single newlines with space\n",
    "df['text'] = df['text'].str.replace('\\n', ' ')\n",
    "\n",
    "# replace \\xa0 with space\n",
    "df['text'] = df['text'].str.replace('\\xa0', ' ')\n",
    "df['text'] = df['text'].str.replace('&lt;', ' ')\n",
    "\n",
    "# replace \\xa with ''\n",
    "df['text'] = df['text'].str.replace('\\xad', '')\n",
    "df['text'] = df['text'].str.replace('\\x95', '')\n",
    "\n",
    "# replace multiple spaces with single space\n",
    "df['text'] = df['text'].str.replace('\\s+', ' ', regex=True)\n",
    "df['text'] = df['text'].str.strip()\n"
   ]
  },
  {
   "cell_type": "code",
   "execution_count": 4,
   "metadata": {},
   "outputs": [],
   "source": [
    "# Korrektur af fejl i data\n",
    "df['text'] = df['text'].str.replace(' cg ', ' og ')"
   ]
  },
  {
   "cell_type": "code",
   "execution_count": 19,
   "metadata": {},
   "outputs": [],
   "source": [
    "# find ocurrences of single letter words in a row\n"
   ]
  },
  {
   "cell_type": "code",
   "execution_count": 5,
   "metadata": {},
   "outputs": [],
   "source": [
    "# Dates\n",
    "df['date'] = pd.to_datetime(df['letterdate'])\n",
    "df['date'] = df['date'].dt.date\n",
    "df.drop(['letterdate'], axis=1, inplace=True)\n",
    "df.sort_values(by=['date'], inplace=True)"
   ]
  },
  {
   "cell_type": "code",
   "execution_count": 6,
   "metadata": {},
   "outputs": [],
   "source": [
    "# Add an id column as the first column\n",
    "df.insert(0, 'id', range(1, 1 + len(df)))\n",
    "\n",
    "# reorder columns\n",
    "df = df[['id', 'date', 'sender', 'recipient','place','location', 'text']]\n",
    "\n",
    "df.to_csv('../data/letters.csv', index=False)"
   ]
  }
 ],
 "metadata": {
  "kernelspec": {
   "display_name": "Python 3",
   "language": "python",
   "name": "python3"
  },
  "language_info": {
   "codemirror_mode": {
    "name": "ipython",
    "version": 3
   },
   "file_extension": ".py",
   "mimetype": "text/x-python",
   "name": "python",
   "nbconvert_exporter": "python",
   "pygments_lexer": "ipython3",
   "version": "3.10.11"
  }
 },
 "nbformat": 4,
 "nbformat_minor": 2
}
