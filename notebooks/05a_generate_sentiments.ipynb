{
  "cells": [
    {
      "cell_type": "code",
      "execution_count": null,
      "metadata": {},
      "outputs": [],
      "source": [
        "import pandas as pd\n",
        "import nltk\n",
        "nltk.download('punkt')\n",
        "from sentida import Sentid\n",
        "from afinn import Afinn\n",
        "\n",
        "# Read the data\n",
        "df = pd.read_csv('../data/letters.csv')"
      ]
    },
    {
      "cell_type": "code",
      "execution_count": null,
      "metadata": {},
      "outputs": [],
      "source": [
        "\n",
        "afinn = Afinn(language='da')\n",
        "scores = [afinn.score(text) for text in df.text]\n",
        "df['sentiment_score'] = scores\n",
        "\n",
        "df_sentences = pd.read_csv('../data/sentences.csv')\n",
        "scores = [afinn.score(str(sentence)) for sentence in df_sentences.sentence]\n",
        "df_sentences['afinn_score'] = scores"
      ]
    },
    {
      "cell_type": "code",
      "execution_count": null,
      "metadata": {},
      "outputs": [],
      "source": [
        "# full text sentida\n",
        "sentida_instance = Sentida()\n",
        "sentida_scores = [sentida_instance.sentida(str(text),output=\"total\") for text in df.text]\n",
        "df['sentida_score'] = sentida_scores"
      ]
    },
    {
      "cell_type": "code",
      "execution_count": null,
      "metadata": {},
      "outputs": [],
      "source": [
        "sentida_instance = Sentida()\n",
        "# 12 seconds\n",
        "sentida_scores = [sentida_instance.sentida(str(sentence),output=\"total\") for sentence in df_sentences.sentence]\n",
        "df_sentences['sentida_score'] = sentida_scores"
      ]
    },
    {
      "cell_type": "code",
      "execution_count": null,
      "metadata": {},
      "outputs": [],
      "source": [
        "# saving sentiment scored sentences\n",
        "df_sentences.to_csv('../data/sentiment_scored_sentences.csv', index=False)"
      ]
    },
    {
      "cell_type": "code",
      "execution_count": null,
      "metadata": {},
      "outputs": [],
      "source": [
        "# avg afinn_score per letter in df_sentences\n",
        "df_agg_sentiment = df_sentences.groupby('letter_id').afinn_score.mean()\n",
        "df['affin_score_sentenceavg'] = df_agg_sentiment\n",
        "\n",
        "df_agg_sentida = df_sentences.groupby('letter_id').sentida_score.mean()\n",
        "df['sentida_score_sentenceavg'] = df_agg_sentida"
      ]
    },
    {
      "cell_type": "code",
      "execution_count": null,
      "metadata": {},
      "outputs": [],
      "source": [
        "# plot sentiment score over time for date\n",
        "import matplotlib.pyplot as plt\n",
        "import matplotlib.dates as mdates\n",
        "import numpy as np\n",
        "\n",
        "# convert date to datetime\n",
        "df['date'] = pd.to_datetime(df['date'])\n",
        "\n",
        "fig, ax = plt.subplots(1,4,figsize=(15,7))\n",
        "ax[0].plot(df.date, df.sentiment_score, color='blue', alpha=0.5, linewidth=0.5)\n",
        "# title on ax 1\n",
        "ax[0].set_title('Afinn score full text')\n",
        "ax[1].plot(df.date, df.affin_score_sentenceavg, color='red', alpha=0.5, linewidth=0.5)\n",
        "ax[1].set_title('Afinn score sentence avg')\n",
        "ax[2].plot(df.date, df.sentida_score_sentenceavg, color='green', alpha=0.5, linewidth=0.5)\n",
        "ax[2].set_title('Sentida score sentence avg')\n",
        "ax[3].plot(df.date, df.sentida_score, color='purple', alpha=0.5, linewidth=0.5)\n",
        "ax[3].set_title('Sentida score ')"
      ]
    },
    {
      "cell_type": "code",
      "execution_count": null,
      "metadata": {},
      "outputs": [],
      "source": [
        "from danlp.models import load_bert_emotion_model\n",
        "classifier = load_bert_emotion_model()"
      ]
    },
    {
      "cell_type": "code",
      "execution_count": null,
      "metadata": {},
      "outputs": [],
      "source": [
        "# add bert emotion score per letter\n",
        "bert_scores = [classifier.predict(str(text)) for text in df.text]\n",
        "df['bert_emotion_score'] = bert_scores"
      ]
    },
    {
      "cell_type": "code",
      "execution_count": null,
      "metadata": {},
      "outputs": [],
      "source": [
        "df.to_csv('../data/sentiment_scored_letters.csv', index=False)"
      ]
    }
  ],
  "metadata": {
    "kernelspec": {
      "display_name": "jernkors",
      "language": "python",
      "name": "python3"
    },
    "language_info": {
      "codemirror_mode": {
        "name": "ipython",
        "version": 3
      },
      "file_extension": ".py",
      "mimetype": "text/x-python",
      "name": "python",
      "nbconvert_exporter": "python",
      "pygments_lexer": "ipython3",
      "version": "3.9.18"
    }
  },
  "nbformat": 4,
  "nbformat_minor": 2
}
