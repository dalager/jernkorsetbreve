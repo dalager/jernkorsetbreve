{
  "cells": [
    {
      "cell_type": "code",
      "execution_count": 3,
      "metadata": {},
      "outputs": [],
      "source": [
        "import importlib\n",
        "import sys\n",
        "sys.path.insert(0, '../scripts')\n",
        "\n",
        "import create_pdf\n",
        "importlib.reload(create_pdf)\n",
        "\n",
        "create_pdf.create_pdf('../exports/jernkorset.pdf')"
      ]
    }
  ],
  "metadata": {
    "kernelspec": {
      "display_name": "jernkors",
      "language": "python",
      "name": "python3"
    },
    "language_info": {
      "codemirror_mode": {
        "name": "ipython",
        "version": 3
      },
      "file_extension": ".py",
      "mimetype": "text/x-python",
      "name": "python",
      "nbconvert_exporter": "python",
      "pygments_lexer": "ipython3",
      "version": "3.9.18"
    }
  },
  "nbformat": 4,
  "nbformat_minor": 2
}
