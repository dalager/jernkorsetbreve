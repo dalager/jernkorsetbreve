{
 "cells": [
  {
   "cell_type": "markdown",
   "metadata": {},
   "source": [
    "# Korrelation af breve og slag\n",
    "\n",
    "De fleste af brevene har et sted på sig.\n",
    "Jeg har konstrueret et lille datasæt med militære slag på Øst- og Vestfronten i 1. verdenskrig, og så skal vi finde ud af, hvor tæt Peter var på.\n",
    "\n",
    "Det gør vi ved at tillade både en rumlig og tidslig margin til slagene.\n",
    "\n",
    "75 km og 10 dage til at starte med.\n"
   ]
  },
  {
   "cell_type": "code",
   "execution_count": null,
   "metadata": {},
   "outputs": [],
   "source": [
    "import pandas as pd\n",
    "import sys\n",
    "sys.path.insert(0, '../scripts')\n",
    "import importlib\n",
    "import letters_to_geopandas \n",
    "importlib.reload(letters_to_geopandas)\n",
    "import battles_to_geopandas\n",
    "importlib.reload(battles_to_geopandas)\n"
   ]
  },
  {
   "cell_type": "markdown",
   "metadata": {},
   "source": [
    "# Loading data"
   ]
  },
  {
   "cell_type": "code",
   "execution_count": null,
   "metadata": {},
   "outputs": [],
   "source": [
    "\n",
    "letters = letters_to_geopandas.create_geopandas_from_csv()\t\n",
    "battles = battles_to_geopandas.create_geopandas_from_battle_csv()\t\n",
    "\n",
    "# this is needed for the distance calculation to work\n",
    "letters = letters.to_crs(\"EPSG:32634\")\n",
    "battles = battles.to_crs(\"EPSG:32634\")\n"
   ]
  },
  {
   "cell_type": "markdown",
   "metadata": {},
   "source": [
    "# Korrelation\n",
    "\n",
    "Output er en liste af breve/slag der matcher proximity kravene\n",
    "\n"
   ]
  },
  {
   "cell_type": "code",
   "execution_count": null,
   "metadata": {},
   "outputs": [],
   "source": [
    "spatial_threshold = 100000  # in meters Example: 10 km\n",
    "temporal_threshold = 10  # in days Example: 3 days\n",
    "letters_battles_correlated = []\n",
    "\n",
    "for index, letter in letters.iterrows():\n",
    "    # Calculate distances from this letter to all battles\n",
    "    battles['distance'] = round(battles.geometry.distance(letter.geometry),3)\n",
    "\n",
    "    # Filter battles within spatial and temporal proximity threshold\n",
    "    battles['time_diff'] = (battles['date'] - letter['date']).abs()\n",
    "\n",
    "    battles['time_diff'] = battles.apply(lambda battle: \n",
    "                                         0 if battle['date'] <= letter['date'] <= battle['enddate']\n",
    "                                         else min(abs((letter['date'] - battle['date']).days), abs((letter['date'] - battle['enddate']).days)), axis=1)\n",
    "\n",
    "    battles_close_to_letters = battles[(battles['distance'] <= spatial_threshold) & (battles['time_diff'] <= temporal_threshold)]\n",
    "\n",
    "    for idx, battle in battles_close_to_letters.iterrows():\n",
    "        letters_battles_correlated.append({\n",
    "            'letter_date': letter['date'],\n",
    "            'letter_place': letter['place'],\n",
    "            'battle': battle['battle'],\n",
    "            'battle_start': battle['date'],\n",
    "            'battle_end': battle['enddate'],\n",
    "            'distance_km': round(battle['distance']/1000),\n",
    "            'time_diff': battle['time_diff']\n",
    "        })\n",
    "\n",
    "# Convert to DataFrame for analysis\n",
    "letters_battles_correlated = pd.DataFrame(letters_battles_correlated)\n",
    "letters_battles_correlated\n"
   ]
  }
 ],
 "metadata": {
  "kernelspec": {
   "display_name": "jernkors",
   "language": "python",
   "name": "python3"
  },
  "language_info": {
   "codemirror_mode": {
    "name": "ipython",
    "version": 3
   },
   "file_extension": ".py",
   "mimetype": "text/x-python",
   "name": "python",
   "nbconvert_exporter": "python",
   "pygments_lexer": "ipython3",
   "version": "3.9.18"
  }
 },
 "nbformat": 4,
 "nbformat_minor": 2
}
