{
 "cells": [
  {
   "cell_type": "code",
   "execution_count": 3,
   "metadata": {},
   "outputs": [
    {
     "name": "stdout",
     "output_type": "stream",
     "text": [
      "{'item': {'type': 'uri', 'value': 'http://www.wikidata.org/entity/Q378619'}, 'itemLabel': {'xml:lang': 'en', 'type': 'literal', 'value': 'CC'}}\n",
      "{'item': {'type': 'uri', 'value': 'http://www.wikidata.org/entity/Q498787'}, 'itemLabel': {'xml:lang': 'en', 'type': 'literal', 'value': 'Muezza'}}\n",
      "{'item': {'type': 'uri', 'value': 'http://www.wikidata.org/entity/Q677525'}, 'itemLabel': {'xml:lang': 'en', 'type': 'literal', 'value': 'Orangey'}}\n",
      "{'item': {'type': 'uri', 'value': 'http://www.wikidata.org/entity/Q851190'}, 'itemLabel': {'xml:lang': 'en', 'type': 'literal', 'value': 'Mrs. Chippy'}}\n",
      "{'item': {'type': 'uri', 'value': 'http://www.wikidata.org/entity/Q893453'}, 'itemLabel': {'xml:lang': 'en', 'type': 'literal', 'value': 'Unsinkable Sam'}}\n",
      "{'item': {'type': 'uri', 'value': 'http://www.wikidata.org/entity/Q1050083'}, 'itemLabel': {'xml:lang': 'en', 'type': 'literal', 'value': 'Catmando'}}\n",
      "{'item': {'type': 'uri', 'value': 'http://www.wikidata.org/entity/Q1185550'}, 'itemLabel': {'xml:lang': 'en', 'type': 'literal', 'value': 'Oscar'}}\n",
      "{'item': {'type': 'uri', 'value': 'http://www.wikidata.org/entity/Q1201902'}, 'itemLabel': {'xml:lang': 'en', 'type': 'literal', 'value': 'Tama'}}\n",
      "{'item': {'type': 'uri', 'value': 'http://www.wikidata.org/entity/Q1207136'}, 'itemLabel': {'xml:lang': 'en', 'type': 'literal', 'value': 'Dewey Readmore Books'}}\n",
      "{'item': {'type': 'uri', 'value': 'http://www.wikidata.org/entity/Q1371145'}, 'itemLabel': {'xml:lang': 'en', 'type': 'literal', 'value': 'Socks'}}\n"
     ]
    }
   ],
   "source": [
    "from SPARQLWrapper import SPARQLWrapper, JSON\n",
    "\n",
    "# SPARQL endpoint for Wikidata\n",
    "sparql = SPARQLWrapper(\"https://query.wikidata.org/sparql\")\n",
    "\n",
    "sparql.agent = \"lettercollection 0.1 (christian@dalager.com)\"\n",
    "\n",
    "# Your SPARQL query\n",
    "# load query from file\n",
    "with open('15_sparql.rq', 'r') as file:\n",
    "    query = file.read()\n",
    "\n",
    "\n",
    "sparql.setQuery(query)\n",
    "sparql.setReturnFormat(JSON)\n",
    "\n",
    "try:\n",
    "    results = sparql.query().convert()\n",
    "\n",
    "    # Process results\n",
    "    for result in results[\"results\"][\"bindings\"]:\n",
    "        print(result)\n",
    "except Exception as e:\n",
    "    print(f\"An error occurred: {e}\")"
   ]
  }
 ],
 "metadata": {
  "kernelspec": {
   "display_name": "jernkors",
   "language": "python",
   "name": "python3"
  },
  "language_info": {
   "codemirror_mode": {
    "name": "ipython",
    "version": 3
   },
   "file_extension": ".py",
   "mimetype": "text/x-python",
   "name": "python",
   "nbconvert_exporter": "python",
   "pygments_lexer": "ipython3",
   "version": "3.9.18"
  }
 },
 "nbformat": 4,
 "nbformat_minor": 2
}
