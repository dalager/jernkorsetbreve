{
  "cells": [
    {
      "cell_type": "markdown",
      "metadata": {},
      "source": [
        "# Word clouds\n",
        "\n",
        "High level visualisering af de forskellige ordklasser\n",
        "\n",
        "- Navneord\n",
        "- Verber\n",
        "- Personnavne\n",
        "- Stednavne\n",
        "- Organisationer\n"
      ]
    },
    {
      "cell_type": "code",
      "execution_count": 1,
      "metadata": {},
      "outputs": [
        {
          "name": "stderr",
          "output_type": "stream",
          "text": [
            "C:\\Users\\christian.dalager\\AppData\\Local\\Temp\\ipykernel_23232\\2462908722.py:1: DeprecationWarning: \n",
            "Pyarrow will become a required dependency of pandas in the next major release of pandas (pandas 3.0),\n",
            "(to allow more performant data types, such as the Arrow string type, and better interoperability with other libraries)\n",
            "but was not found to be installed on your system.\n",
            "If this would cause problems for you,\n",
            "please provide us feedback at https://github.com/pandas-dev/pandas/issues/54466\n",
            "        \n",
            "  import pandas as pd\n"
          ]
        }
      ],
      "source": [
        "import pandas as pd\n",
        "from wordcloud import WordCloud\n",
        "import matplotlib.pyplot as plt"
      ]
    },
    {
      "cell_type": "markdown",
      "metadata": {},
      "source": [
        "# Navneord (lemmatized)"
      ]
    },
    {
      "cell_type": "code",
      "execution_count": null,
      "metadata": {},
      "outputs": [],
      "source": [
        "nfreq = pd.read_csv('../data/nounfreq.csv')\n",
        "\n",
        "import lemmy\n",
        "lemmatizer = lemmy.load(\"da\")\n",
        "def lemmatize_nouns(noun):\n",
        "    return lemmatizer.lemmatize(\"NOUN\", noun)[0]\n",
        "\n",
        "nfreq['lemma'] = nfreq['noun'].apply(lemmatize_nouns)\n",
        "nfreq_lemma = nfreq.groupby('lemma').sum().reset_index()\n",
        "nfreq_lemma = nfreq_lemma.sort_values(by='freq', ascending=False)\n",
        "nfreq_lemma = nfreq_lemma.reset_index(drop=True)\n",
        "nfreq_lemma = nfreq_lemma[['lemma', 'freq']]\n",
        "\n",
        "wc = WordCloud(background_color=\"white\", max_words=2000, width=800, height=400)\n",
        "wc.generate_from_frequencies(nfreq_lemma.set_index('lemma').to_dict()['freq'])\n",
        "plt.figure(figsize=(12, 6))\n",
        "plt.imshow(wc, interpolation=\"bilinear\")\n",
        "plt.axis(\"off\")\n",
        "plt.tight_layout()\n",
        "plt.savefig('images/nouncloud.png')\n",
        "plt.show()"
      ]
    },
    {
      "cell_type": "markdown",
      "metadata": {},
      "source": [
        "# Verber"
      ]
    },
    {
      "cell_type": "code",
      "execution_count": null,
      "metadata": {},
      "outputs": [],
      "source": [
        "vfreq = pd.read_csv('../data/verbfreq.csv')\n",
        "wc = WordCloud(background_color=\"white\", max_words=2000, width=800, height=400,collocations=True)\n",
        "wc.generate_from_frequencies(vfreq.set_index('verb').to_dict()['freq'])\n",
        "plt.figure(figsize=(12, 6))\n",
        "plt.imshow(wc, interpolation=\"bilinear\")\n",
        "plt.axis(\"off\")\n",
        "plt.tight_layout()\n",
        "plt.savefig('images/verbcloud.png')\n",
        "plt.show()"
      ]
    },
    {
      "cell_type": "code",
      "execution_count": null,
      "metadata": {},
      "outputs": [],
      "source": [
        "vfreq = pd.read_csv('../data/verbfreq_lemma.csv')\n",
        "wc = WordCloud(background_color=\"white\", max_words=2000, width=800, height=400)\n",
        "wc.generate_from_frequencies(vfreq.set_index('lemma').to_dict()['freq'])\n",
        "plt.figure(figsize=(12, 6))\n",
        "plt.imshow(wc, interpolation=\"bilinear\")\n",
        "plt.axis(\"off\")\n",
        "plt.tight_layout()\n",
        "plt.savefig('images/verbcloud_lemmatized.png')\n",
        "plt.show()"
      ]
    },
    {
      "cell_type": "markdown",
      "metadata": {},
      "source": [
        "# NER - Named Entity Recognition\n",
        "\n",
        "- Personer\n",
        "- Steder\n",
        "- Organisationer"
      ]
    },
    {
      "cell_type": "code",
      "execution_count": null,
      "metadata": {},
      "outputs": [],
      "source": [
        "ner_freq = pd.read_csv('../data/NER_entities_grouped.csv')\n",
        "types = ner_freq['type'].unique()\n",
        "\n",
        "\n",
        "for t in types:\n",
        "    wc = WordCloud(background_color=\"white\", max_words=2000, width=800, height=400)\n",
        "    wc.generate_from_frequencies(ner_freq[ner_freq['type'] == t].set_index('text').to_dict()['counts'])\n",
        "    plt.figure(figsize=(12, 6))\n",
        "    plt.imshow(wc, interpolation=\"bilinear\")\n",
        "    plt.axis(\"off\")\n",
        "    plt.tight_layout()\n",
        "    plt.savefig('images/' + t + 'cloud.png')\n",
        "    plt.show()\n"
      ]
    }
  ],
  "metadata": {
    "kernelspec": {
      "display_name": "jernkors",
      "language": "python",
      "name": "python3"
    },
    "language_info": {
      "codemirror_mode": {
        "name": "ipython",
        "version": 3
      },
      "file_extension": ".py",
      "mimetype": "text/x-python",
      "name": "python",
      "nbconvert_exporter": "python",
      "pygments_lexer": "ipython3",
      "version": "3.10.11"
    }
  },
  "nbformat": 4,
  "nbformat_minor": 2
}
