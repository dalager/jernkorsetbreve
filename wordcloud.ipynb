{
 "cells": [
  {
   "cell_type": "markdown",
   "metadata": {},
   "source": [
    "# Word clouds\n",
    "\n",
    "High level visualisering af de forskellige ordklasser\n",
    "\n",
    "- Navneord\n",
    "- Verber\n",
    "- Personnavne\n",
    "- Stednavne\n",
    "- Organisationer\n"
   ]
  },
  {
   "cell_type": "code",
   "execution_count": null,
   "metadata": {},
   "outputs": [],
   "source": [
    "import pandas as pd\n",
    "from wordcloud import WordCloud\n",
    "import matplotlib.pyplot as plt"
   ]
  },
  {
   "cell_type": "markdown",
   "metadata": {},
   "source": [
    "# Navneord"
   ]
  },
  {
   "cell_type": "code",
   "execution_count": null,
   "metadata": {},
   "outputs": [],
   "source": [
    "nfreq = pd.read_csv('data/nounfreq.csv')\n",
    "wc = WordCloud(background_color=\"white\", max_words=2000, width=800, height=400)\n",
    "wc.generate_from_frequencies(nfreq.set_index('noun').to_dict()['freq'])\n",
    "plt.figure(figsize=(12, 6))\n",
    "plt.imshow(wc, interpolation=\"bilinear\")\n",
    "plt.axis(\"off\")\n",
    "plt.tight_layout()\n",
    "plt.savefig('images/nouncloud.png')\n",
    "plt.show()"
   ]
  },
  {
   "cell_type": "markdown",
   "metadata": {},
   "source": [
    "# Verber"
   ]
  },
  {
   "cell_type": "code",
   "execution_count": null,
   "metadata": {},
   "outputs": [],
   "source": [
    "vfreq = pd.read_csv('data/verbfreq.csv')\n",
    "wc = WordCloud(background_color=\"white\", max_words=2000, width=800, height=400,collocations=True)\n",
    "wc.generate_from_frequencies(vfreq.set_index('verb').to_dict()['freq'])\n",
    "plt.figure(figsize=(12, 6))\n",
    "plt.imshow(wc, interpolation=\"bilinear\")\n",
    "plt.axis(\"off\")\n",
    "plt.tight_layout()\n",
    "plt.savefig('images/verbcloud.png')\n",
    "plt.show()"
   ]
  },
  {
   "cell_type": "markdown",
   "metadata": {},
   "source": [
    "# NER - Named Entity Recognition\n",
    "\n",
    "- Personer\n",
    "- Steder\n",
    "- Organisationer"
   ]
  },
  {
   "cell_type": "code",
   "execution_count": null,
   "metadata": {},
   "outputs": [],
   "source": [
    "ner_freq = pd.read_csv('data/NER_entities_grouped.csv')\n",
    "types = ner_freq['type'].unique()\n",
    "\n",
    "\n",
    "for t in types:\n",
    "    wc = WordCloud(background_color=\"white\", max_words=2000, width=800, height=400)\n",
    "    wc.generate_from_frequencies(ner_freq[ner_freq['type'] == t].set_index('text').to_dict()['counts'])\n",
    "    plt.figure(figsize=(12, 6))\n",
    "    plt.imshow(wc, interpolation=\"bilinear\")\n",
    "    plt.axis(\"off\")\n",
    "    plt.tight_layout()\n",
    "    plt.savefig('images/' + t + 'cloud.png')\n",
    "    plt.show()\n"
   ]
  }
 ],
 "metadata": {
  "kernelspec": {
   "display_name": "jernkors",
   "language": "python",
   "name": "python3"
  },
  "language_info": {
   "codemirror_mode": {
    "name": "ipython",
    "version": 3
   },
   "file_extension": ".py",
   "mimetype": "text/x-python",
   "name": "python",
   "nbconvert_exporter": "python",
   "pygments_lexer": "ipython3",
   "version": "3.9.18"
  }
 },
 "nbformat": 4,
 "nbformat_minor": 2
}
